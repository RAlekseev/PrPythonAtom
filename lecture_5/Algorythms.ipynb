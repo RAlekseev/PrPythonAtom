{
 "cells": [
  {
   "cell_type": "code",
<<<<<<< HEAD
   "execution_count": 1,
   "metadata": {},
=======
   "execution_count": null,
   "metadata": {
    "collapsed": true
   },
>>>>>>> 880506e8928c393eac8128c1efbe07c63b63b348
   "outputs": [],
   "source": [
    "import pandas as pd\n",
    "import numpy as np"
   ]
  },
  {
   "cell_type": "code",
<<<<<<< HEAD
   "execution_count": null,
   "metadata": {
    "collapsed": true
   },
=======
   "execution_count": 1,
   "metadata": {},
>>>>>>> 880506e8928c393eac8128c1efbe07c63b63b348
   "outputs": [],
   "source": [
    "class prefix_tree:\n",
    "    \n",
    "    def __init__(self):\n",
    "        self.root = [{}]\n",
    "        \n",
    "    def add(self, string):\n",
<<<<<<< HEAD
    "        a = self.root\n",
    "        if self.check(string) == True:\n",
    "            return 0\n",
    "        else:\n",
    "        for i in a:\n",
    "            if i in a[0]:\n",
    "                a = a[0][i]\n",
    "            else:\n",
    "                return \n",
    "        a.append(True)\n",
    "            \n",
    "            \n",
    "            \n",
    "        #TODO добавить строку\n",
    "        \n",
    "    def check(self, string):\n",
    "        a = self.root\n",
    "        foor i in lstring:\n",
    "            if i in a[0]:\n",
    "                a = a[0][i]\n",
    "            else:\n",
    "                return False\n",
    "        if len(a) != 1:    \n",
    "            return True\n",
    "        return False\n",
    "            \n",
    "        #TODO проверить наличие строки\n",
    "    \n",
    "    def check_part(self, string):\n",
    "        a = self.root\n",
    "        b = '';\n",
    "        foor i in lstring:\n",
    "            if i in a[0]:\n",
    "                a = a[0][i]\n",
    "            else:\n",
    "                return False\n",
=======
    "        if self.check(string):\n",
    "            return\n",
    "        wrk_dict = self.root\n",
    "        for i in string:\n",
    "            if i in wrk_dict[0]:\n",
    "                wrk_dict = wrk_dict[0][i]\n",
    "            else:\n",
    "                wrk_dict[0][i] = [{}]\n",
    "                wrk_dict = wrk_dict[0][i]\n",
    "        wrk_dict.append(True)\n",
    "        #TODO добавить строку\n",
    "        \n",
    "    def check(self, string):\n",
    "        wrk_dict = self.root\n",
    "        for i in string:\n",
    "            if i in wrk_dict[0]:\n",
    "                wrk_dict = wrk_dict[0][i]\n",
    "            else:\n",
    "                return False\n",
    "        if len(wrk_dict) != 1:\n",
    "            return True\n",
    "        return False\n",
    "        #TODO проверить наличие строки\n",
    "    \n",
    "    def check_part(self, string):\n",
    "        wrk_dict = self.root\n",
    "        for i in string:\n",
    "            if i in wrk_dict[0]:\n",
    "                wrk_dict = wrk_dict[0][i]\n",
    "            else:\n",
    "                return False\n",
    "        return True\n",
>>>>>>> 880506e8928c393eac8128c1efbe07c63b63b348
    "        #TODO проверить наличие строки как префикса"
   ]
  },
  {
   "cell_type": "code",
<<<<<<< HEAD
   "execution_count": null,
   "metadata": {
    "collapsed": true
   },
=======
   "execution_count": 2,
   "metadata": {},
>>>>>>> 880506e8928c393eac8128c1efbe07c63b63b348
   "outputs": [],
   "source": [
    "pr_tree = prefix_tree()\n",
    "\n",
    "pr_tree.add(\"строка\")\n",
    "assert pr_tree.check(\"строка\")\n",
    "assert not pr_tree.check(\"строк\")\n",
    "assert not pr_tree.check(\"строка1\")\n",
    "assert pr_tree.check_part(\"строк\")"
   ]
  }
 ],
 "metadata": {
  "anaconda-cloud": {},
  "kernelspec": {
   "display_name": "Python 3",
   "language": "python",
   "name": "python3"
  },
  "language_info": {
   "codemirror_mode": {
    "name": "ipython",
    "version": 3
   },
   "file_extension": ".py",
   "mimetype": "text/x-python",
   "name": "python",
   "nbconvert_exporter": "python",
   "pygments_lexer": "ipython3",
   "version": "3.6.5"
  }
 },
 "nbformat": 4,
 "nbformat_minor": 1
}
