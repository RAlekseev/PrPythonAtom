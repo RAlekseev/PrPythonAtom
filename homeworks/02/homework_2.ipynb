{
 "cells": [
  {
   "cell_type": "code",
   "execution_count": null,
   "metadata": {},
   "outputs": [],
   "source": []
  },
  {
   "cell_type": "markdown",
   "metadata": {},
   "source": [
    "На лекции были вопросы про форматирование строк.\n",
    "тут показаны примеры форматирования строк. если хотите красиво форматировать - вам сюда:\n",
    "https://pyformat.info/"
   ]
  },
  {
   "cell_type": "markdown",
   "metadata": {},
   "source": [
    "# 1"
   ]
  },
  {
   "cell_type": "markdown",
   "metadata": {},
   "source": [
    "Разминка."
   ]
  },
  {
   "cell_type": "raw",
   "metadata": {},
   "source": [
    "Вы уже имеете представление о том что такое декоратор и даже попробовали написать свой\n",
    "\n",
    "Давайте чтобы убедиться в полезности этой вещи, возьмем не так быстро вычисляющуюся фукнцию\n",
    "например рекурсивное (понятно что это не самый эффективный вариант) вычисление n-го числа фибоначчи."
   ]
  },
  {
   "cell_type": "code",
   "execution_count": 37,
   "metadata": {
    "ExecuteTime": {
     "end_time": "2018-10-05T16:06:04.951826Z",
     "start_time": "2018-10-05T16:06:04.916437Z"
    }
   },
   "outputs": [],
   "source": [
    "def fib(n):\n",
    "    if n < 3:\n",
    "        return(n)\n",
    "    else: return fib(n-1)+fib(n-2)\n",
    "    "
   ]
  },
  {
   "cell_type": "code",
   "execution_count": 38,
   "metadata": {
    "ExecuteTime": {
     "end_time": "2018-10-05T16:06:07.681697Z",
     "start_time": "2018-10-05T16:06:05.164927Z"
    }
   },
   "outputs": [
    {
     "name": "stdout",
     "output_type": "stream",
     "text": [
      "CPU times: user 4.41 s, sys: 74.8 ms, total: 4.49 s\n",
      "Wall time: 4.87 s\n"
     ]
    },
    {
     "data": {
      "text/plain": [
       "14930352"
      ]
     },
     "execution_count": 38,
     "metadata": {},
     "output_type": "execute_result"
    }
   ],
   "source": [
    "%%time\n",
    "fib(35)"
   ]
  },
  {
   "cell_type": "markdown",
   "metadata": {
    "ExecuteTime": {
     "end_time": "2018-10-05T06:31:08.569105Z",
     "start_time": "2018-10-05T06:31:08.543005Z"
    }
   },
   "source": [
    "##### Задание \n",
    "Оберните fib в кеширующий декоратор.\n",
    "\n",
    "\n",
    "!hint для облегчения жизни - и проканает в домашке в python есть модуль functools, у него есть готовый кеширующий декоратор!)"
   ]
  },
  {
   "cell_type": "code",
   "execution_count": 39,
   "metadata": {
    "ExecuteTime": {
     "end_time": "2018-10-05T16:06:07.688402Z",
     "start_time": "2018-10-05T16:06:07.684090Z"
    }
   },
   "outputs": [],
   "source": [
    "#def cache_decorator:\n",
    "#    pass\n",
    "from functools import lru_cache"
   ]
  },
  {
   "cell_type": "code",
   "execution_count": 40,
   "metadata": {
    "ExecuteTime": {
     "end_time": "2018-10-05T16:07:48.837819Z",
     "start_time": "2018-10-05T16:07:48.823711Z"
    }
   },
   "outputs": [],
   "source": [
    "from functools import lru_cache\n",
    "@lru_cache()\n",
    "def fib(n):\n",
    "    if n < 3:\n",
    "        return(n)\n",
    "    else: return fib(n-1)+fib(n-2)\n"
   ]
  },
  {
   "cell_type": "code",
   "execution_count": 41,
   "metadata": {
    "ExecuteTime": {
     "end_time": "2018-10-05T16:07:56.392761Z",
     "start_time": "2018-10-05T16:07:56.381550Z"
    }
   },
   "outputs": [
    {
     "name": "stdout",
     "output_type": "stream",
     "text": [
      "CPU times: user 60 µs, sys: 1 µs, total: 61 µs\n",
      "Wall time: 67 µs\n"
     ]
    },
    {
     "data": {
      "text/plain": [
       "14930352"
      ]
     },
     "execution_count": 41,
     "metadata": {},
     "output_type": "execute_result"
    }
   ],
   "source": [
    "%%time\n",
    "fib(35)"
   ]
  },
  {
   "cell_type": "markdown",
   "metadata": {},
   "source": [
    "Сравните время исполнения. Если оно изменилось - объясните почему? "
   ]
  },
  {
   "cell_type": "markdown",
   "metadata": {},
   "source": [
    "> Ваш ответ:Данная реккурсивная функция, начинается с самого низа, с использованием кэширования результаты каждой ветви сохраняются в словарь (поиск по которому очень быстрый) так же при повторном вызове данная функция не будет идти по всему дереву, а возьмет уже сохраненное значение\n"
   ]
  },
  {
   "cell_type": "markdown",
   "metadata": {},
   "source": [
    "______"
   ]
  },
  {
   "cell_type": "markdown",
   "metadata": {},
   "source": [
    "# 2"
   ]
  },
  {
   "cell_type": "markdown",
   "metadata": {},
   "source": [
    "##### Задание. \n",
    "\n",
    "Напишите простой декоратор который проверяет, что входной аргумент больше -1, и в случае если меньше, то кидает какое нибудь исключение (Exception)"
   ]
  },
  {
   "cell_type": "code",
   "execution_count": 42,
   "metadata": {
    "ExecuteTime": {
     "end_time": "2018-10-05T16:48:32.909816Z",
     "start_time": "2018-10-05T16:48:32.880146Z"
    }
   },
   "outputs": [],
   "source": [
    "def fib(n):\n",
    "    if n < 3:\n",
    "        return(n)\n",
    "    else: return fib(n-1)+fib(n-2)\n",
    "\n",
    "# TODO внимание - не используйте  предыдущие обернутые в декоратор функции. \n",
    "# копипастните код."
   ]
  },
  {
   "cell_type": "code",
   "execution_count": 43,
   "metadata": {
    "ExecuteTime": {
     "end_time": "2018-10-05T16:48:35.827499Z",
     "start_time": "2018-10-05T16:48:33.307489Z"
    }
   },
   "outputs": [
    {
     "name": "stdout",
     "output_type": "stream",
     "text": [
      "CPU times: user 4.92 s, sys: 8.36 ms, total: 4.93 s\n",
      "Wall time: 5.23 s\n"
     ]
    },
    {
     "data": {
      "text/plain": [
       "14930352"
      ]
     },
     "execution_count": 43,
     "metadata": {},
     "output_type": "execute_result"
    }
   ],
   "source": [
    "%%time\n",
    "fib(35)"
   ]
  },
  {
   "cell_type": "code",
   "execution_count": 48,
   "metadata": {
    "ExecuteTime": {
     "end_time": "2018-10-05T16:48:35.836582Z",
     "start_time": "2018-10-05T16:48:35.831911Z"
    }
   },
   "outputs": [],
   "source": [
    "class Func_Exception(Exception):\n",
    "    pass\n",
    "\n",
    "def simple_decorator(function):\n",
    "    def funk(arg):\n",
    "        if not (arg > -1):\n",
    "            raise Func_Exception\n",
    "        else:\n",
    "            return function(arg)\n",
    "    return funk\n"
   ]
  },
  {
   "cell_type": "code",
   "execution_count": 49,
   "metadata": {
    "ExecuteTime": {
     "end_time": "2018-10-05T16:48:35.853090Z",
     "start_time": "2018-10-05T16:48:35.838896Z"
    }
   },
   "outputs": [],
   "source": [
    "@simple_decorator\n",
    "def fib(n):\n",
    "    if n < 3:\n",
    "        return(n)\n",
    "    else: return fib(n-1)+fib(n-2)"
   ]
  },
  {
   "cell_type": "code",
   "execution_count": 50,
   "metadata": {
    "ExecuteTime": {
     "end_time": "2018-10-05T16:48:40.687261Z",
     "start_time": "2018-10-05T16:48:35.855650Z"
    }
   },
   "outputs": [
    {
     "name": "stdout",
     "output_type": "stream",
     "text": [
      "CPU times: user 11 s, sys: 139 ms, total: 11.1 s\n",
      "Wall time: 11.8 s\n"
     ]
    },
    {
     "data": {
      "text/plain": [
       "14930352"
      ]
     },
     "execution_count": 50,
     "metadata": {},
     "output_type": "execute_result"
    }
   ],
   "source": [
    "%%time\n",
    "fib(35)"
   ]
  },
  {
   "cell_type": "markdown",
   "metadata": {},
   "source": [
    "Сравните время исполнения. Если оно изменилось - объясните почему? "
   ]
  },
  {
   "cell_type": "markdown",
   "metadata": {},
   "source": [
    "> Ваш ответ : эээ, время увеличилось примерно в 2 раза, связанно с тем, что мы еще больше нагружаем рекурсивную функцию, и помимо складывания чисел, она еще делает их проверку на > -1. Прироста не дает, так как в изначальной функции уже есть \"Если (n > 3): ...\" иначе, она спасала бы от лишних иттераций"
   ]
  },
  {
   "cell_type": "markdown",
   "metadata": {},
   "source": [
    "_____"
   ]
  },
  {
   "cell_type": "markdown",
   "metadata": {},
   "source": [
    "# 3"
   ]
  },
  {
   "cell_type": "markdown",
   "metadata": {},
   "source": [
    "ОФФТОП: На лекции были вопросы про форматирование строк.\n",
    "тут показаны примеры форматирования строк. если хотите красиво форматировать - вам сюда:\n",
    "https://pyformat.info/"
   ]
  },
  {
   "cell_type": "raw",
   "metadata": {},
   "source": [
    "Модулем в Python называется любой файл с программой. Модули можно объединять в пакеты.\n",
    "Пакеты - это просто способ структурирования пространств имен модулей на основе файловой системы.\n",
    "Временами полезно держать все в порядке и декомпозировано."
   ]
  },
  {
   "cell_type": "raw",
   "metadata": {},
   "source": [
    "my_python_functions/\n",
    "│  \n",
    "├── __init__.py\n",
    "│   \n",
    "├──  math_functions/\n",
    "│      ├──     __init__.py\n",
    "│      ├──    vector_functions.py\n",
    "│      └──    matrix_functions.py\n",
    "│        \n",
    "└──  other_functions/\n",
    "      ├──    __init__.py\n",
    "      └──    string.py"
   ]
  },
  {
   "cell_type": "raw",
   "metadata": {
    "ExecuteTime": {
     "end_time": "2018-10-05T08:31:40.359626Z",
     "start_time": "2018-10-05T08:31:40.348753Z"
    }
   },
   "source": [
    "Тут пример некоторого пакета my_python_functions в котором есть мат. фукнции и другие функции.\n",
    "\n",
    "в каждой из директорий лежит (обычно пустой) файл __init__.py, \n",
    "видя __init__.py интерпретатор понимает что каталог my_python_functions содержит пакет с модулями.\n",
    "\n",
    "в такой организации проще понимать что где находится\n",
    "\n",
    "Например у нас есть модуль vector_functions.py со своим пространством имен (набор переменных, функций и тд), \n",
    "У нас на уровень выше my_python_functions (рядом с этой папкой) лежит Jupyter_notebook.ipynb файл.\n",
    "В этом случае мы в наш ноутбук можем импортировать некоторые функции из пакета my_python_functions\n",
    "следующей командой\n",
    "\n",
    "from my_python_functions.math_functions.vector_functions import dot as vector_multiplication\n",
    "\n"
   ]
  },
  {
   "cell_type": "markdown",
   "metadata": {},
   "source": [
    "_______"
   ]
  },
  {
   "cell_type": "markdown",
   "metadata": {},
   "source": [
    "##### Задание:\n"
   ]
  },
  {
   "cell_type": "raw",
   "metadata": {},
   "source": [
    "\n",
    "Создайте пакет my_python_functions и с папкой fib_functions \n",
    "Нужно положить туда модуль my_functions.py функцию из задания выше (со всеми импортами) fib c кэшом и вызовать эту функцию в ноутбуке.\n",
    "\n",
    "my_python_functions/\n",
    "│  \n",
    "├── __init__.py\n",
    "│   \n",
    "└── fib_functions/\n",
    "      ├──     __init__.py\n",
    "      └──    my_functions.py\n",
    "        "
   ]
  },
  {
   "cell_type": "code",
   "execution_count": 56,
   "metadata": {},
   "outputs": [
    {
     "name": "stdout",
     "output_type": "stream",
     "text": [
      "Writing my_python_functions/writer/__init__.py\n"
     ]
    }
   ],
   "source": [
    "%%writefile my_python_functions/writer/__init__.py\n",
    "from .file_writer import FileWriter \n",
    "__all__ = [\"FileWriter\"]\n",
    " "
   ]
  },
  {
   "cell_type": "code",
   "execution_count": 57,
   "metadata": {},
   "outputs": [
    {
     "name": "stdout",
     "output_type": "stream",
     "text": [
      "Overwriting my_python_functions/fib_functions/my_function.py\n"
     ]
    }
   ],
   "source": [
    "%%writefile my_python_functions/fib_functions/my_function.py\n",
    "\n",
    "from functools import lru_cache\n",
    "@lru_cache()\n",
    "def fib(n):\n",
    "    if n < 3:\n",
    "        return(n)\n",
    "    else: return fib(n-1)+fib(n-2)"
   ]
  },
  {
   "cell_type": "code",
   "execution_count": 58,
   "metadata": {
    "ExecuteTime": {
     "end_time": "2018-10-05T16:20:53.653528Z",
     "start_time": "2018-10-05T16:20:53.645655Z"
    }
   },
   "outputs": [],
   "source": [
    "from my_python_functions.fib_functions.my_function import fib"
   ]
  },
  {
   "cell_type": "code",
   "execution_count": 59,
   "metadata": {
    "ExecuteTime": {
     "end_time": "2018-10-05T16:20:54.041957Z",
     "start_time": "2018-10-05T16:20:54.032618Z"
    }
   },
   "outputs": [
    {
     "name": "stdout",
     "output_type": "stream",
     "text": [
      "CPU times: user 13 µs, sys: 0 ns, total: 13 µs\n",
      "Wall time: 17.2 µs\n"
     ]
    },
    {
     "data": {
      "text/plain": [
       "14930352"
      ]
     },
     "execution_count": 59,
     "metadata": {},
     "output_type": "execute_result"
    }
   ],
   "source": [
    "%%time\n",
    "fib(35)"
   ]
  },
  {
   "cell_type": "markdown",
   "metadata": {},
   "source": [
    "_________---"
   ]
  },
  {
   "cell_type": "markdown",
   "metadata": {},
   "source": [
    "# 4"
   ]
  },
  {
   "cell_type": "raw",
   "metadata": {},
   "source": [
    "Теперь попрактикуемся с классами и файлами\n",
    "\n",
    "создайте еще один каталог writer в котором будет теперь уже не пустой __init__.py\n",
    "\n",
    "\n",
    "```\n",
    "fib_functions\n",
    "```\n",
    "\n",
    "// Обратите внимание! В отличие от ноутбука в .py файлах нужно прописывать относительные пути через .\n",
    "\n",
    "\n",
    "в __init__.py в прописали в переменной __all__  то, что должно будет вывестись в случае если из модуля импортировать все\n",
    "командой *\n",
    "\n",
    "Например:\n",
    "from my_python_functions.writer import *\n",
    "\n",
    "https://docs.python.org/3/tutorial/modules.html#importing-from-a-package"
   ]
  },
  {
   "cell_type": "raw",
   "metadata": {},
   "source": [
    "Вот так должна выглядеть теперь новая структура"
   ]
  },
  {
   "cell_type": "raw",
   "metadata": {},
   "source": [
    "my_python_functions/\n",
    "│  \n",
    "├── __init__.py\n",
    "│   \n",
    "├── fib_functions/\n",
    "│     ├──    __init__.py\n",
    "│     └──    my_functions.py\n",
    "│         \n",
    "└── writer\n",
    "      ├──    __init__.py\n",
    "      └──    file_writer.py"
   ]
  },
  {
   "cell_type": "raw",
   "metadata": {
    "ExecuteTime": {
     "end_time": "2018-10-05T08:49:51.532736Z",
     "start_time": "2018-10-05T08:49:51.495558Z"
    }
   },
   "source": [
    "в file_writer.py нужно положить класс FileWriter который:\n",
    "\n",
    "- при иницилизации должен принимать на вход строку с путем до некоторого файла.\n",
    "(файл может не сущестовать но должна быть проверка что существует директория по указанному пути)\n",
    "\n",
    "- должен иметь свойство path с getter, setter и deliter \n",
    "(сделайте такую же проверку в сеттере что в новом  path существует директория)\n",
    "\n",
    "- у класса должен быть метод - распечатай файл (print_file)\n",
    "\n",
    "- у класса должен быть метод ДОзаписать в файл строку, но только через контекстный менеджер \n",
    "(т.е. добавить в конец если файл существует, и если такого файла нет, то создать его и записать вначало)\n",
    "\n",
    "- имел бы метод сохранения созданного экземпляра класса в пикл_файл (ниже пример 2)\n",
    "- имел бы классовый метод загрузки экземпляра класса из пикл_файла (ниже пример 2)\n",
    "\n",
    "\n",
    "Примечания:\n",
    "    \n",
    "1) для работы с файловой системой вам потребуется стандартный модуль os\n",
    "( https://docs.python.org/3.5/library/os.html )\n",
    "\n",
    "2) Python позволяет сериализовать и десирализовать объекты \n",
    "(то есть просто представить объект в виде набора байтов и обратно)\n",
    "https://pythonworld.ru/moduli/modul-pickle.html\n",
    "\n",
    "Оффтоп:\n",
    "Использовать пикл может быть полезно когда у вас есть какой то созданный объект (например экземпляр класса) и \n",
    "вы хотите его сохранить, а потом спустя время загрузить и продолжить с ним работу.\n",
    "\n",
    "\n",
    "P.S. И да. прокрутите чуток вниз. там есть шаблончик класса"
   ]
  },
  {
   "cell_type": "code",
   "execution_count": 60,
   "metadata": {},
   "outputs": [
    {
     "name": "stdout",
     "output_type": "stream",
     "text": [
      "Writing my_python_functions/writer/file_writer.py\n"
     ]
    }
   ],
   "source": [
    "%%writefile my_python_functions/writer/file_writer.py\n",
    "import os\n",
    "import pickle as pkl\n",
    "\n",
    "class FileWriter:\n",
    "    \n",
    "    def __init__(self, path):\n",
    "        if not self._check_path(path):\n",
    "            os.system(\"touch \" + path)\n",
    "        self.path = path\n",
    "        self.file = None\n",
    "    \n",
    "    def _check_path(self, path):\n",
    "        try:\n",
    "            file = open(path)\n",
    "            file.close()\n",
    "            return 1\n",
    "        except:\n",
    "            return 0\n",
    "    \n",
    "    def setPath(self, npath):\n",
    "        self.path = npath\n",
    "\n",
    "    def getPath(self):\n",
    "        return self.path\n",
    "\n",
    "    def delete(self):\n",
    "        os.system(\"rm -rf \" + self.path)\n",
    "\n",
    "    def print_file(self):\n",
    "        f = open(self.path)\n",
    "        for ln in f:\n",
    "            print(ln)\n",
    "        f.close()\n",
    "    \n",
    "    def write(self, some_string):\n",
    "        with open(self.path, 'a') as f:\n",
    "            f.write(some_string)\n",
    "    \n",
    "    def save_yourself(self, file_name):\n",
    "        with open(file_name, 'wb') as dumpFile:\n",
    "            pkl.dump(self, dumpFile)\n",
    "    \n",
    "    @classmethod\n",
    "    def load_file_writer(cls, pickle_file):\n",
    "        with open(pickle_file, 'rb') as dumpFile:\n",
    "            return pkl.load(dumpFile)\n",
    "\n",
    "#pt = 'fl.txt'\n",
    "\n",
    "#f = FileWriter(pt)\n",
    "#f.write(\"WORD1\")\n",
    "#f.print_file()\n",
    "#f.save_yourself('d.pkl')\n",
    "#s = FileWriter.load_file_writer('d.pkl')\n",
    "#s.write(\"WORD2\")\n",
    "#s.print_file()"
   ]
  },
  {
   "cell_type": "code",
   "execution_count": 61,
   "metadata": {
    "ExecuteTime": {
     "end_time": "2018-10-05T08:46:30.880860Z",
     "start_time": "2018-10-05T08:46:30.869995Z"
    },
    "scrolled": true
   },
   "outputs": [],
   "source": [
    "from my_python_functions.writer import *\n",
    "\n",
    "# то же самое что и \n",
    "# from my_python_functions.writer.file_writer import FileWriter\n",
    "# тк в writer только один класс"
   ]
  },
  {
   "cell_type": "raw",
   "metadata": {},
   "source": [
    "Пример работы file writer"
   ]
  },
  {
   "cell_type": "code",
   "execution_count": 62,
   "metadata": {
    "ExecuteTime": {
     "end_time": "2018-10-05T08:49:01.195466Z",
     "start_time": "2018-10-05T08:49:01.190722Z"
    }
   },
   "outputs": [],
   "source": [
    "a = FileWriter('./new_file.txt')"
   ]
  },
  {
   "cell_type": "code",
   "execution_count": 63,
   "metadata": {
    "ExecuteTime": {
     "end_time": "2018-10-05T08:49:01.514132Z",
     "start_time": "2018-10-05T08:49:01.509457Z"
    }
   },
   "outputs": [],
   "source": [
    "#with a as fw:\n",
    "a.write('im here!')"
   ]
  },
  {
   "cell_type": "code",
   "execution_count": 64,
   "metadata": {
    "ExecuteTime": {
     "end_time": "2018-10-05T08:49:01.903699Z",
     "start_time": "2018-10-05T08:49:01.893237Z"
    }
   },
   "outputs": [],
   "source": [
    "s = !cat ./new_file.txt\n",
    "s = s[0]\n",
    "assert 'im here!' == s\n",
    "# те у кого винда и анаконда. скажите - эта штука работает?"
   ]
  },
  {
   "cell_type": "code",
   "execution_count": 65,
   "metadata": {
    "ExecuteTime": {
     "end_time": "2018-10-05T08:49:02.385619Z",
     "start_time": "2018-10-05T08:49:02.378590Z"
    }
   },
   "outputs": [],
   "source": [
    "a.save_yourself('./me.pkl') # сохранили экземпляр класса FileWriter"
   ]
  },
  {
   "cell_type": "code",
   "execution_count": 66,
   "metadata": {
    "ExecuteTime": {
     "end_time": "2018-10-05T08:49:02.939603Z",
     "start_time": "2018-10-05T08:49:02.932518Z"
    }
   },
   "outputs": [],
   "source": [
    "b = FileWriter.load_file_writer('./me.pkl')  # а теперь снова его загрузили"
   ]
  },
  {
   "cell_type": "code",
   "execution_count": 67,
   "metadata": {
    "ExecuteTime": {
     "end_time": "2018-10-05T08:49:03.372651Z",
     "start_time": "2018-10-05T08:49:03.369712Z"
    }
   },
   "outputs": [],
   "source": [
    "assert b.path == './new_file.txt' # видим что это и правда наш экземпляр"
   ]
  },
  {
   "cell_type": "code",
   "execution_count": 68,
   "metadata": {
    "ExecuteTime": {
     "end_time": "2018-10-05T08:49:03.791643Z",
     "start_time": "2018-10-05T08:49:03.787180Z"
    }
   },
   "outputs": [],
   "source": [
    "b.write('im here!')"
   ]
  },
  {
   "cell_type": "code",
   "execution_count": 69,
   "metadata": {
    "ExecuteTime": {
     "end_time": "2018-10-05T08:49:04.192234Z",
     "start_time": "2018-10-05T08:49:04.173732Z"
    }
   },
   "outputs": [],
   "source": [
    "s = !cat ./new_file.txt\n",
    "s = s[0]\n",
    "assert 'im here!im here!' == s"
   ]
  },
  {
   "cell_type": "code",
   "execution_count": null,
   "metadata": {},
   "outputs": [],
   "source": []
  },
  {
   "cell_type": "raw",
   "metadata": {},
   "source": [
    "Как должен выглядеть класс FileWriter"
   ]
  },
  {
   "cell_type": "code",
   "execution_count": 70,
   "metadata": {},
   "outputs": [],
   "source": [
    "import os\n",
    "import pickle as pkl\n",
    "\n",
    "class FileWriter:\n",
    "    \n",
    "    def __init__(self, path):\n",
    "        \"\"\"path - путь до файла\"\"\"\n",
    "        if self._check_path(path):\n",
    "            self.path_ = path\n",
    "            self.file = None\n",
    "        \n",
    "    def _check_path(self, path):\n",
    "        pass\n",
    "    \n",
    "    def print_file(self):\n",
    "        pass\n",
    "    \n",
    "    def write(self, some_string):\n",
    "        pass\n",
    "    \n",
    "    def save_yourself(self, file_name):\n",
    "        pass\n",
    "    \n",
    "    @classmethod\n",
    "    def load_file_writer(cls, pickle_file):\n",
    "        pass\n",
    "\n",
    "    # \n",
    "    # возможно что то еще.\n",
    "    # что намеренно упущенно. например что то для контекстного менеджера."
   ]
  },
  {
   "cell_type": "code",
   "execution_count": null,
   "metadata": {},
   "outputs": [],
   "source": []
  },
  {
   "cell_type": "code",
   "execution_count": null,
   "metadata": {},
   "outputs": [],
   "source": []
  },
  {
   "cell_type": "markdown",
   "metadata": {},
   "source": [
    "##### Реализовать подобие двоичной кучи ( max и min heap )\n",
    "\n",
    "Класс должен на вход принимать список чисел и иметь методы\n",
    "\n",
    "- extract_maximum / extract_minimum - извлечь максимум / минимум\n",
    "- add                               - добавить элемент"
   ]
  },
  {
   "cell_type": "code",
   "execution_count": 71,
   "metadata": {
    "ExecuteTime": {
     "end_time": "2018-10-05T16:40:30.434092Z",
     "start_time": "2018-10-05T16:40:30.426396Z"
    }
   },
   "outputs": [],
   "source": [
    "# возможно понадобится при написании, а если нет. то знайте что есть такой модуль.\n",
    "\n",
    "import operator\n",
    "\n",
    "# встроенный модуль с набором различных операторов"
   ]
  },
  {
   "cell_type": "code",
   "execution_count": 72,
   "metadata": {
    "ExecuteTime": {
     "end_time": "2018-10-05T16:40:30.918682Z",
     "start_time": "2018-10-05T16:40:30.907769Z"
    }
   },
   "outputs": [
    {
     "name": "stdout",
     "output_type": "stream",
     "text": [
      "1 < 3 \t True\n",
      "5 < 9 \t True\n",
      "1 < 99 \t True\n",
      "1000 < 9 is \t False\n"
     ]
    }
   ],
   "source": [
    "new_less_than_operator = operator.lt\n",
    "\n",
    "print('1 < 3 \\t', new_less_than_operator(1, 3))\n",
    "print('5 < 9 \\t', new_less_than_operator(1, 5))\n",
    "print('1 < 99 \\t', new_less_than_operator(1, 99))\n",
    "print('1000 < 9 is \\t', new_less_than_operator(1000, 9))"
   ]
  },
  {
   "cell_type": "code",
   "execution_count": 73,
   "metadata": {
    "ExecuteTime": {
     "end_time": "2018-10-05T16:40:31.793542Z",
     "start_time": "2018-10-05T16:40:31.782355Z"
    }
   },
   "outputs": [
    {
     "name": "stdout",
     "output_type": "stream",
     "text": [
      "1 > 3 \t False\n",
      "5 > 9 \t False\n",
      "1 > 99 \t False\n",
      "1000 > 9 is \t True\n"
     ]
    }
   ],
   "source": [
    "new_greater_than_operator = operator.gt\n",
    "# Same as a>b.\n",
    "\n",
    "print('1 > 3 \\t', new_greater_than_operator(1, 3))\n",
    "print('5 > 9 \\t', new_greater_than_operator(1, 5))\n",
    "print('1 > 99 \\t', new_greater_than_operator(1, 99))\n",
    "print('1000 > 9 is \\t', new_greater_than_operator(1000, 9))"
   ]
  },
  {
   "cell_type": "markdown",
   "metadata": {},
   "source": [
    "_______"
   ]
  },
  {
   "cell_type": "code",
   "execution_count": 74,
   "metadata": {},
   "outputs": [],
   "source": [
    "class Heap():\n",
    "    \n",
    "    def __init__(self, array):\n",
    "        self.array = array[:]\n",
    "        self.is_max_heap = None\n",
    "        self.comparator = None\n",
    "                    \n",
    "    def add(self, elem_with_priority):\n",
    "        pass\n",
    "    \n",
    "    def _build_heap(self):\n",
    "        pass\n",
    "    \n",
    "    def show_tree(self, total_width=33, fill=' '):\n",
    "        # метод для поможет отлаживаться\n",
    "        \n",
    "        tree = self.array\n",
    "        \n",
    "        import math\n",
    "        from io import StringIO\n",
    "        output = StringIO()\n",
    "        last_row = -1\n",
    "        for i, n in enumerate(tree):\n",
    "            if i:\n",
    "                row = int(math.floor(math.log(i+1, 2)))\n",
    "            else:\n",
    "                row = 0\n",
    "            if row != last_row:\n",
    "                output.write('\\n')\n",
    "            columns = 2**row\n",
    "            col_width = int(math.floor((total_width * 1.0) / columns))\n",
    "            output.write(str(n).center(col_width, fill))\n",
    "            last_row = row\n",
    "        print (output.getvalue())\n",
    "        print ('-' * total_width)\n",
    "        print()"
   ]
  },
  {
   "cell_type": "code",
   "execution_count": 75,
   "metadata": {
    "ExecuteTime": {
     "end_time": "2018-10-05T15:19:19.314780Z",
     "start_time": "2018-10-05T15:19:19.197384Z"
    }
   },
   "outputs": [],
   "source": [
    "class MaxHeap(Heap):\n",
    "    \n",
    "    def __init__(self, array):\n",
    "        pass\n",
    "        \n",
    "    def extract_maximum(self):\n",
    "        pass\n",
    "    \n",
    "    \n",
    "class MinHeap(Heap):\n",
    "    \n",
    "    def __init__(self, array):\n",
    "        pass\n",
    "        \n",
    "    def extract_minimum(self):\n",
    "        pass"
   ]
  },
  {
   "cell_type": "markdown",
   "metadata": {},
   "source": [
    "#### Проверь себя - тесты\n",
    "\n",
    "##### Если они не нравятся - можно написать свои."
   ]
  },
  {
   "cell_type": "code",
   "execution_count": 76,
   "metadata": {
    "ExecuteTime": {
     "end_time": "2018-10-05T14:15:38.934602Z",
     "start_time": "2018-10-05T14:15:38.928068Z"
    }
   },
   "outputs": [],
   "source": [
    "import random\n",
    "\n",
    "# модуль который поможет нам генерировать псевдо-случайные числа\n",
    "# пример тут\n",
    "# https://docs.python.org/3/library/random.html?highlight=random#module-random"
   ]
  },
  {
   "cell_type": "markdown",
   "metadata": {},
   "source": [
    "##### Поглядим на макс кучу в бою"
   ]
  },
  {
   "cell_type": "code",
   "execution_count": 77,
   "metadata": {
    "ExecuteTime": {
     "end_time": "2018-10-05T14:15:39.231210Z",
     "start_time": "2018-10-05T14:15:39.219766Z"
    }
   },
   "outputs": [
    {
     "ename": "AttributeError",
     "evalue": "'MaxHeap' object has no attribute 'array'",
     "output_type": "error",
     "traceback": [
      "\u001b[0;31m---------------------------------------------------------------------------\u001b[0m",
      "\u001b[0;31mAttributeError\u001b[0m                            Traceback (most recent call last)",
      "\u001b[0;32m<ipython-input-77-8935a1ab2b18>\u001b[0m in \u001b[0;36m<module>\u001b[0;34m()\u001b[0m\n\u001b[1;32m      1\u001b[0m \u001b[0msome_list\u001b[0m \u001b[0;34m=\u001b[0m \u001b[0;34m[\u001b[0m\u001b[0mrandom\u001b[0m\u001b[0;34m.\u001b[0m\u001b[0mrandint\u001b[0m\u001b[0;34m(\u001b[0m\u001b[0;36m0\u001b[0m\u001b[0;34m,\u001b[0m \u001b[0;36m20\u001b[0m\u001b[0;34m)\u001b[0m \u001b[0;32mfor\u001b[0m \u001b[0mi\u001b[0m \u001b[0;32min\u001b[0m \u001b[0mrange\u001b[0m\u001b[0;34m(\u001b[0m\u001b[0;36m13\u001b[0m\u001b[0;34m)\u001b[0m\u001b[0;34m]\u001b[0m\u001b[0;34m\u001b[0m\u001b[0m\n\u001b[1;32m      2\u001b[0m \u001b[0mh\u001b[0m \u001b[0;34m=\u001b[0m \u001b[0mMaxHeap\u001b[0m\u001b[0;34m(\u001b[0m\u001b[0msome_list\u001b[0m\u001b[0;34m)\u001b[0m\u001b[0;34m\u001b[0m\u001b[0m\n\u001b[0;32m----> 3\u001b[0;31m \u001b[0mh\u001b[0m\u001b[0;34m.\u001b[0m\u001b[0mshow_tree\u001b[0m\u001b[0;34m(\u001b[0m\u001b[0;34m)\u001b[0m\u001b[0;34m\u001b[0m\u001b[0m\n\u001b[0m\u001b[1;32m      4\u001b[0m \u001b[0;34m\u001b[0m\u001b[0m\n\u001b[1;32m      5\u001b[0m \u001b[0;31m# Проверим что макс куча всегда правильно вытаскивает максимум.\u001b[0m\u001b[0;34m\u001b[0m\u001b[0;34m\u001b[0m\u001b[0m\n",
      "\u001b[0;32m<ipython-input-74-ba3882beb55d>\u001b[0m in \u001b[0;36mshow_tree\u001b[0;34m(self, total_width, fill)\u001b[0m\n\u001b[1;32m     15\u001b[0m         \u001b[0;31m# метод для поможет отлаживаться\u001b[0m\u001b[0;34m\u001b[0m\u001b[0;34m\u001b[0m\u001b[0m\n\u001b[1;32m     16\u001b[0m \u001b[0;34m\u001b[0m\u001b[0m\n\u001b[0;32m---> 17\u001b[0;31m         \u001b[0mtree\u001b[0m \u001b[0;34m=\u001b[0m \u001b[0mself\u001b[0m\u001b[0;34m.\u001b[0m\u001b[0marray\u001b[0m\u001b[0;34m\u001b[0m\u001b[0m\n\u001b[0m\u001b[1;32m     18\u001b[0m \u001b[0;34m\u001b[0m\u001b[0m\n\u001b[1;32m     19\u001b[0m         \u001b[0;32mimport\u001b[0m \u001b[0mmath\u001b[0m\u001b[0;34m\u001b[0m\u001b[0m\n",
      "\u001b[0;31mAttributeError\u001b[0m: 'MaxHeap' object has no attribute 'array'"
     ]
    }
   ],
   "source": [
    "some_list = [random.randint(0, 20) for i in range(13)]\n",
    "h = MaxHeap(some_list)\n",
    "h.show_tree()\n",
    "\n",
    "# Проверим что макс куча всегда правильно вытаскивает максимум.\n",
    "\n",
    "for next_max in sorted(some_list, reverse=True):\n",
    "    max_ = h.extract_maximum()\n",
    "    assert max_ == next_max, 'oooups! heap doesnt return max - element {} {}'.format(max_, next_max)"
   ]
  },
  {
   "cell_type": "markdown",
   "metadata": {},
   "source": [
    "##### Убедимся что мин куча работает"
   ]
  },
  {
   "cell_type": "code",
   "execution_count": null,
   "metadata": {
    "ExecuteTime": {
     "end_time": "2018-10-05T14:15:39.423901Z",
     "start_time": "2018-10-05T14:15:39.411011Z"
    }
   },
   "outputs": [],
   "source": [
    "some_list = [random.randint(0, 20) for i in range(13)]\n",
    "\n",
    "h = MinHeap(some_list)\n",
    "h.show_tree()\n",
    "\n",
    "# Проверим что мин куча всегда правильно вытаскивает минимум.\n",
    "\n",
    "for next_max in sorted(some_list, reverse=False):\n",
    "    max_ = h.extract_minimum()\n",
    "    assert max_ == next_max, 'oooups! heap doesnt return min - element {} {}'.format(max_, next_max)"
   ]
  },
  {
   "cell_type": "markdown",
   "metadata": {},
   "source": [
    "##### Проверим что куча работает как очередь с приоритетами - будем добавлять новые элементы, но она все равно будет возвращать то что нужно"
   ]
  },
  {
   "cell_type": "code",
   "execution_count": null,
   "metadata": {
    "ExecuteTime": {
     "end_time": "2018-10-05T14:15:56.520524Z",
     "start_time": "2018-10-05T14:15:56.490431Z"
    }
   },
   "outputs": [],
   "source": [
    "# заведем макс кучу\n",
    "some_list = [random.randint(10, 20) for i in range(7)]\n",
    "h = MaxHeap(some_list)\n",
    "h.show_tree()\n",
    "\n",
    "# добавим элементов с разным приоритетом\n",
    "some_list_2 = [random.randint(-20, 40) for i in range(9)]\n",
    "[h.add(i) for i in some_list_2]\n",
    "h.show_tree()\n",
    "merged_list = some_list + some_list_2\n",
    "\n",
    "# проверим что всегда макс элемент это макс элемент\n",
    "sorted_merged_list = sorted(merged_list, reverse=True)\n",
    "for i, next_max in enumerate(sorted_merged_list):\n",
    "    max_ = h.extract_maximum()\n",
    "    assert max_ == next_max, 'oooups! heap doesnt return max - element {} {}'.format(max_, next_max)"
   ]
  },
  {
   "cell_type": "code",
   "execution_count": null,
   "metadata": {
    "ExecuteTime": {
     "end_time": "2018-10-05T14:16:16.697986Z",
     "start_time": "2018-10-05T14:16:16.628955Z"
    }
   },
   "outputs": [],
   "source": [
    "# заведем мин_кучу\n",
    "some_list = [random.randint(10, 20) for i in range(7)]\n",
    "h = MinHeap(some_list)\n",
    "h.show_tree()\n",
    "\n",
    "# добавим элементов с разным приоритетом\n",
    "some_list_2 = [random.randint(-20, 40) for i in range(9)]\n",
    "[h.add(i) for i in some_list_2]\n",
    "h.show_tree()\n",
    "merged_list = some_list + some_list_2\n",
    "\n",
    "# проверим что всегда минимальный элемент это минимальный элемент\n",
    "sorted_merged_list = sorted(merged_list, reverse=False)\n",
    "for i, next_max in enumerate(sorted_merged_list):\n",
    "    max_ = h.extract_minimum()\n",
    "    assert max_ == next_max, 'oooups! heap doesnt return max - element {} {}'.format(max_, next_max)"
   ]
  },
  {
   "cell_type": "markdown",
   "metadata": {},
   "source": [
    "______"
   ]
  },
  {
   "cell_type": "code",
   "execution_count": null,
   "metadata": {},
   "outputs": [],
   "source": []
  }
 ],
 "metadata": {
  "kernelspec": {
   "display_name": "Python 3",
   "language": "python",
   "name": "python3"
  },
  "language_info": {
   "codemirror_mode": {
    "name": "ipython",
    "version": 3
   },
   "file_extension": ".py",
   "mimetype": "text/x-python",
   "name": "python",
   "nbconvert_exporter": "python",
   "pygments_lexer": "ipython3",
   "version": "3.6.5"
  }
 },
 "nbformat": 4,
 "nbformat_minor": 2
}
