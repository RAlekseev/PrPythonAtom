{
 "cells": [
  {
   "cell_type": "code",
   "execution_count": 1,
   "metadata": {},
   "outputs": [],
   "source": [
    "import pandas as pd\n",
    "import numpy as np"
   ]
  },
  {
   "cell_type": "code",
   "execution_count": 19,
   "metadata": {},
   "outputs": [
    {
     "data": {
      "text/html": [
       "<div>\n",
       "<style scoped>\n",
       "    .dataframe tbody tr th:only-of-type {\n",
       "        vertical-align: middle;\n",
       "    }\n",
       "\n",
       "    .dataframe tbody tr th {\n",
       "        vertical-align: top;\n",
       "    }\n",
       "\n",
       "    .dataframe thead th {\n",
       "        text-align: right;\n",
       "    }\n",
       "</style>\n",
       "<table border=\"1\" class=\"dataframe\">\n",
       "  <thead>\n",
       "    <tr style=\"text-align: right;\">\n",
       "      <th></th>\n",
       "      <th>Age</th>\n",
       "      <th>Workclass</th>\n",
       "      <th>fnlwgt</th>\n",
       "      <th>Education</th>\n",
       "      <th>Education-num</th>\n",
       "      <th>Marital-status</th>\n",
       "      <th>Occupation</th>\n",
       "      <th>Relationship</th>\n",
       "      <th>Race</th>\n",
       "      <th>Sex</th>\n",
       "      <th>Capital-gain</th>\n",
       "      <th>Capital-loss</th>\n",
       "      <th>HpW</th>\n",
       "      <th>Native-country</th>\n",
       "      <th>Salary</th>\n",
       "    </tr>\n",
       "  </thead>\n",
       "  <tbody>\n",
       "    <tr>\n",
       "      <th>0</th>\n",
       "      <td>39</td>\n",
       "      <td>State-gov</td>\n",
       "      <td>77516</td>\n",
       "      <td>Bachelors</td>\n",
       "      <td>13</td>\n",
       "      <td>Never-married</td>\n",
       "      <td>Adm-clerical</td>\n",
       "      <td>Not-in-family</td>\n",
       "      <td>White</td>\n",
       "      <td>Male</td>\n",
       "      <td>2174</td>\n",
       "      <td>0</td>\n",
       "      <td>40</td>\n",
       "      <td>United-States</td>\n",
       "      <td>&lt;=50K</td>\n",
       "    </tr>\n",
       "    <tr>\n",
       "      <th>1</th>\n",
       "      <td>50</td>\n",
       "      <td>Self-emp-not-inc</td>\n",
       "      <td>83311</td>\n",
       "      <td>Bachelors</td>\n",
       "      <td>13</td>\n",
       "      <td>Married-civ-spouse</td>\n",
       "      <td>Exec-managerial</td>\n",
       "      <td>Husband</td>\n",
       "      <td>White</td>\n",
       "      <td>Male</td>\n",
       "      <td>0</td>\n",
       "      <td>0</td>\n",
       "      <td>13</td>\n",
       "      <td>United-States</td>\n",
       "      <td>&lt;=50K</td>\n",
       "    </tr>\n",
       "    <tr>\n",
       "      <th>2</th>\n",
       "      <td>38</td>\n",
       "      <td>Private</td>\n",
       "      <td>215646</td>\n",
       "      <td>HS-grad</td>\n",
       "      <td>9</td>\n",
       "      <td>Divorced</td>\n",
       "      <td>Handlers-cleaners</td>\n",
       "      <td>Not-in-family</td>\n",
       "      <td>White</td>\n",
       "      <td>Male</td>\n",
       "      <td>0</td>\n",
       "      <td>0</td>\n",
       "      <td>40</td>\n",
       "      <td>United-States</td>\n",
       "      <td>&lt;=50K</td>\n",
       "    </tr>\n",
       "    <tr>\n",
       "      <th>3</th>\n",
       "      <td>53</td>\n",
       "      <td>Private</td>\n",
       "      <td>234721</td>\n",
       "      <td>11th</td>\n",
       "      <td>7</td>\n",
       "      <td>Married-civ-spouse</td>\n",
       "      <td>Handlers-cleaners</td>\n",
       "      <td>Husband</td>\n",
       "      <td>Black</td>\n",
       "      <td>Male</td>\n",
       "      <td>0</td>\n",
       "      <td>0</td>\n",
       "      <td>40</td>\n",
       "      <td>United-States</td>\n",
       "      <td>&lt;=50K</td>\n",
       "    </tr>\n",
       "    <tr>\n",
       "      <th>4</th>\n",
       "      <td>28</td>\n",
       "      <td>Private</td>\n",
       "      <td>338409</td>\n",
       "      <td>Bachelors</td>\n",
       "      <td>13</td>\n",
       "      <td>Married-civ-spouse</td>\n",
       "      <td>Prof-specialty</td>\n",
       "      <td>Wife</td>\n",
       "      <td>Black</td>\n",
       "      <td>Female</td>\n",
       "      <td>0</td>\n",
       "      <td>0</td>\n",
       "      <td>40</td>\n",
       "      <td>Cuba</td>\n",
       "      <td>&lt;=50K</td>\n",
       "    </tr>\n",
       "  </tbody>\n",
       "</table>\n",
       "</div>"
      ],
      "text/plain": [
       "   Age          Workclass  fnlwgt   Education  Education-num  \\\n",
       "0   39          State-gov   77516   Bachelors             13   \n",
       "1   50   Self-emp-not-inc   83311   Bachelors             13   \n",
       "2   38            Private  215646     HS-grad              9   \n",
       "3   53            Private  234721        11th              7   \n",
       "4   28            Private  338409   Bachelors             13   \n",
       "\n",
       "        Marital-status          Occupation    Relationship    Race      Sex  \\\n",
       "0        Never-married        Adm-clerical   Not-in-family   White     Male   \n",
       "1   Married-civ-spouse     Exec-managerial         Husband   White     Male   \n",
       "2             Divorced   Handlers-cleaners   Not-in-family   White     Male   \n",
       "3   Married-civ-spouse   Handlers-cleaners         Husband   Black     Male   \n",
       "4   Married-civ-spouse      Prof-specialty            Wife   Black   Female   \n",
       "\n",
       "   Capital-gain  Capital-loss  HpW  Native-country  Salary  \n",
       "0          2174             0   40   United-States   <=50K  \n",
       "1             0             0   13   United-States   <=50K  \n",
       "2             0             0   40   United-States   <=50K  \n",
       "3             0             0   40   United-States   <=50K  \n",
       "4             0             0   40            Cuba   <=50K  "
      ]
     },
     "execution_count": 19,
     "metadata": {},
     "output_type": "execute_result"
    }
   ],
   "source": [
    "column_names = ['Age','Workclass','fnlwgt','Education','Education-num','Marital-status', 'Occupation', 'Relationship','Race','Sex','Capital-gain','Capital-loss','HpW','Native-country','Salary']\n",
    "data_adult = pd.read_csv(\"adult.data.txt\", sep = ',', names = column_names)\n",
    "data_adult.head(5)"
   ]
  },
  {
   "cell_type": "code",
   "execution_count": 10,
   "metadata": {},
   "outputs": [
    {
     "data": {
      "text/plain": [
       " Male      21790\n",
       " Female    10771\n",
       "Name: Sex, dtype: int64"
      ]
     },
     "execution_count": 10,
     "metadata": {},
     "output_type": "execute_result"
    }
   ],
   "source": [
    "data_adult['Sex'].value_counts()"
   ]
  },
  {
   "cell_type": "code",
   "execution_count": 11,
   "metadata": {},
   "outputs": [
    {
     "data": {
      "text/plain": [
       "39.43354749885268"
      ]
     },
     "execution_count": 11,
     "metadata": {},
     "output_type": "execute_result"
    }
   ],
   "source": [
    "data_adult.groupby('Sex').mean()['Age'].iloc[1]"
   ]
  },
  {
   "cell_type": "code",
   "execution_count": 15,
   "metadata": {},
   "outputs": [
    {
     "data": {
      "text/plain": [
       "0.895857006848684"
      ]
     },
     "execution_count": 15,
     "metadata": {},
     "output_type": "execute_result"
    }
   ],
   "source": [
    "summ = 0\n",
    "for item in data_adult['Native-country']:\n",
    "    if item == ' United-States':\n",
    "        summ = summ + 1\n",
    "ustotal/len(data_adult)"
   ]
  },
  {
   "cell_type": "code",
   "execution_count": 17,
   "metadata": {},
   "outputs": [
    {
     "data": {
      "text/plain": [
       "<matplotlib.axes._subplots.AxesSubplot at 0x7f66c1ee2160>"
      ]
     },
     "execution_count": 17,
     "metadata": {},
     "output_type": "execute_result"
    },
    {
     "data": {
      "image/png": "[encoded data removed]",
      "text/plain": [
       "<Figure size 432x288 with 1 Axes>"
      ]
     },
     "metadata": {},
     "output_type": "display_data"
    }
   ],
   "source": [
    "import matplotlib.pyplot as plt\n",
    "\n",
    "data_adult.groupby('Education').count()[['Age']].rename(index=str, columns={'Age':'Сount'}).plot(kind='bar')"
   ]
  },
  {
   "cell_type": "code",
   "execution_count": 21,
   "metadata": {},
   "outputs": [
    {
     "data": {
      "text/plain": [
       "fnlwgt    80156.000998\n",
       "dtype: float64"
      ]
     },
     "execution_count": 21,
     "metadata": {},
     "output_type": "execute_result"
    }
   ],
   "source": [
    "data_adult.loc[data_adult['Marital-status']==' Divorced'][['fnlwgt']].mean() - data_adult.loc[data_adult['Marital-status']==' Divorced'][['fnlwgt']].std()"
   ]
  },
  {
   "cell_type": "code",
   "execution_count": 23,
   "metadata": {},
   "outputs": [
    {
     "data": {
      "text/plain": [
       "True"
      ]
     },
     "execution_count": 23,
     "metadata": {},
     "output_type": "execute_result"
    }
   ],
   "source": [
    "d = data_adult[['Education-num', 'Salary']]\n",
    "he = set([11, 12, 13, 14, 15, 16]) # Assoc-acdm, Assoc-voc, Bachelors, Doctorate, Masters, Prof-School\n",
    "\n",
    "_total = 0 # total over 50K\n",
    "atotal = 0 # total people\n",
    "ntotal = 0 # total highly educated with salary over 50K\n",
    "res = True # result\n",
    "\n",
    "for item in data_adult['Age']:\n",
    "    atotal += 1\n",
    "for i in range(0, atotal):\n",
    "    if d.iloc[i].iloc[1] == ' >50K':\n",
    "        _total += 1\n",
    "    if d.iloc[i].iloc[1] == ' >50K' and d.iloc[i].iloc[0] in he:\n",
    "        ntotal += 1\n",
    "        \n",
    "if ntotal/_total < 0.5:\n",
    "    res = False\n",
    "    \n",
    "res"
   ]
  },
  {
   "cell_type": "code",
   "execution_count": 25,
   "metadata": {},
   "outputs": [
    {
     "data": {
      "text/html": [
       "<div>\n",
       "<style scoped>\n",
       "    .dataframe tbody tr th:only-of-type {\n",
       "        vertical-align: middle;\n",
       "    }\n",
       "\n",
       "    .dataframe tbody tr th {\n",
       "        vertical-align: top;\n",
       "    }\n",
       "\n",
       "    .dataframe thead th {\n",
       "        text-align: right;\n",
       "    }\n",
       "</style>\n",
       "<table border=\"1\" class=\"dataframe\">\n",
       "  <thead>\n",
       "    <tr style=\"text-align: right;\">\n",
       "      <th></th>\n",
       "      <th></th>\n",
       "      <th>Age</th>\n",
       "    </tr>\n",
       "    <tr>\n",
       "      <th>Race</th>\n",
       "      <th>Sex</th>\n",
       "      <th></th>\n",
       "    </tr>\n",
       "  </thead>\n",
       "  <tbody>\n",
       "    <tr>\n",
       "      <th rowspan=\"2\" valign=\"top\">Amer-Indian-Eskimo</th>\n",
       "      <th>Female</th>\n",
       "      <td>80</td>\n",
       "    </tr>\n",
       "    <tr>\n",
       "      <th>Male</th>\n",
       "      <td>82</td>\n",
       "    </tr>\n",
       "    <tr>\n",
       "      <th rowspan=\"2\" valign=\"top\">Asian-Pac-Islander</th>\n",
       "      <th>Female</th>\n",
       "      <td>75</td>\n",
       "    </tr>\n",
       "    <tr>\n",
       "      <th>Male</th>\n",
       "      <td>90</td>\n",
       "    </tr>\n",
       "    <tr>\n",
       "      <th rowspan=\"2\" valign=\"top\">Black</th>\n",
       "      <th>Female</th>\n",
       "      <td>90</td>\n",
       "    </tr>\n",
       "    <tr>\n",
       "      <th>Male</th>\n",
       "      <td>90</td>\n",
       "    </tr>\n",
       "    <tr>\n",
       "      <th rowspan=\"2\" valign=\"top\">Other</th>\n",
       "      <th>Female</th>\n",
       "      <td>74</td>\n",
       "    </tr>\n",
       "    <tr>\n",
       "      <th>Male</th>\n",
       "      <td>77</td>\n",
       "    </tr>\n",
       "    <tr>\n",
       "      <th rowspan=\"2\" valign=\"top\">White</th>\n",
       "      <th>Female</th>\n",
       "      <td>90</td>\n",
       "    </tr>\n",
       "    <tr>\n",
       "      <th>Male</th>\n",
       "      <td>90</td>\n",
       "    </tr>\n",
       "  </tbody>\n",
       "</table>\n",
       "</div>"
      ],
      "text/plain": [
       "                             Age\n",
       "Race                Sex         \n",
       " Amer-Indian-Eskimo  Female   80\n",
       "                     Male     82\n",
       " Asian-Pac-Islander  Female   75\n",
       "                     Male     90\n",
       " Black               Female   90\n",
       "                     Male     90\n",
       " Other               Female   74\n",
       "                     Male     77\n",
       " White               Female   90\n",
       "                     Male     90"
      ]
     },
     "execution_count": 25,
     "metadata": {},
     "output_type": "execute_result"
    }
   ],
   "source": [
    "data_adult.groupby(['Race', 'Sex']).max()[['Age']]"
   ]
  },
  {
   "cell_type": "code",
   "execution_count": 36,
   "metadata": {},
   "outputs": [
    {
     "data": {
      "text/plain": [
       "{' ?',\n",
       " ' Cambodia',\n",
       " ' Canada',\n",
       " ' Cuba',\n",
       " ' El-Salvador',\n",
       " ' England',\n",
       " ' France',\n",
       " ' Germany',\n",
       " ' Guatemala',\n",
       " ' Hong',\n",
       " ' Ireland',\n",
       " ' Italy',\n",
       " ' Japan',\n",
       " ' Mexico',\n",
       " ' Philippines',\n",
       " ' Poland',\n",
       " ' Portugal',\n",
       " ' Puerto-Rico',\n",
       " ' United-States',\n",
       " ' Vietnam',\n",
       " ' Yugoslavia'}"
      ]
     },
     "execution_count": 36,
     "metadata": {},
     "output_type": "execute_result"
    }
   ],
   "source": [
    "d = data_adult[['Native-country', 'Occupation']]\n",
    "res = set()\n",
    "atotal = 0\n",
    "for i in range(0, len(data_adult)):\n",
    "    if d.iloc[i].iloc[1] == ' Farming-fishing':\n",
    "        res.add(d.iloc[i].iloc[0])\n",
    "res"
   ]
  },
  {
   "cell_type": "code",
   "execution_count": 31,
   "metadata": {},
   "outputs": [
    {
     "name": "stdout",
     "output_type": "stream",
     "text": [
      "Соотношение у мужчин - 3.14743049705139     Соотношение у женщин - 3.0205223880597014\n",
      "Ratio 1 is higher\n"
     ]
    }
   ],
   "source": [
    "\n",
    "mbsum = 0\n",
    "mmsum = 0\n",
    "fbsum = 0\n",
    "fmsum = 0\n",
    "\n",
    "d = data_adult[['Education', 'Sex']]\n",
    "\n",
    "for i in range(0, len(data_adult)):\n",
    "    if d.iloc[i].iloc[0] == ' Bachelors':\n",
    "        if d.iloc[i].iloc[1] == ' Male':\n",
    "            mbsum += 1\n",
    "        else:\n",
    "            fbsum += 1\n",
    "    if d.iloc[i].iloc[0] == ' Masters':\n",
    "        if d.iloc[i].iloc[1] == ' Male':\n",
    "            mmsum += 1\n",
    "        else:\n",
    "            fmsum += 1\n",
    "            \n",
    "divM = mbsum/mmsum\n",
    "divF = fbsum/fmsum\n",
    "\n",
    "print(\"Соотношение у мужчин -\",divM,\"    Соотношение у женщин -\",divF)\n",
    "if divM > divF:\n",
    "    print(\"Соотношение у мужчин больше\")\n",
    "elif divM < divF:\n",
    "    print(\"Соотношение у женщин больше\")\n",
    "else:\n",
    "    print(\"соотношения одинаковы\")"
   ]
  },
  {
   "cell_type": "code",
   "execution_count": 40,
   "metadata": {},
   "outputs": [
    {
     "name": "stdout",
     "output_type": "stream",
     "text": [
      "Income:\n",
      "\n",
      "2354\n",
      "15024\n",
      "-1977\n",
      "4416\n",
      "6418\n",
      "2407\n",
      "-2415\n",
      "-2415\n",
      "2907\n",
      "15024\n",
      "-1977\n",
      "4386\n",
      "15024\n",
      "-1902\n",
      "\n",
      "Other 71 people with 99 HpW have 0 income\n"
     ]
    }
   ],
   "source": [
    "maxHpW = data_adult.max()[['HpW']]\n",
    "d = data_adult[['Capital-gain', 'Capital-loss', 'HpW']]\n",
    "\n",
    "wsum = 0 \n",
    "nzsum = 0\n",
    "\n",
    "\n",
    "print(\"Income:\\n\")\n",
    "for i in range(0, len(data_adult)):\n",
    "    if int(d.iloc[i].iloc[2]) == int(maxHpW):\n",
    "        wsum += 1\n",
    "        a = int(d.iloc[i].iloc[0]) - int(d.iloc[i].iloc[1])\n",
    "        if a != 0:\n",
    "            nzsum += 1\n",
    "            print(a)\n",
    "        \n",
    "print(\"\\nOther {} people with {} HpW have 0 income\".format(wsum - nzsum, int(maxHpW)))"
   ]
  },
  {
   "cell_type": "code",
   "execution_count": null,
   "metadata": {},
   "outputs": [],
   "source": []
  }
 ],
 "metadata": {
  "kernelspec": {
   "display_name": "Python 3",
   "language": "python",
   "name": "python3"
  },
  "language_info": {
   "codemirror_mode": {
    "name": "ipython",
    "version": 3
   },
   "file_extension": ".py",
   "mimetype": "text/x-python",
   "name": "python",
   "nbconvert_exporter": "python",
   "pygments_lexer": "ipython3",
   "version": "3.6.5"
  }
 },
 "nbformat": 4,
 "nbformat_minor": 2
}
